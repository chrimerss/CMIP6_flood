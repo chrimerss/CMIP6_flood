{
 "cells": [
  {
   "cell_type": "code",
   "execution_count": 1,
   "id": "a5c0dfb3-fa31-40de-a498-704936aaa735",
   "metadata": {
    "tags": []
   },
   "outputs": [],
   "source": [
    "import numpy as np\n",
    "import matplotlib.pyplot as plt"
   ]
  },
  {
   "cell_type": "code",
   "execution_count": 14,
   "id": "2f975a1e-f239-4c30-aa14-2e9ece047589",
   "metadata": {
    "tags": []
   },
   "outputs": [],
   "source": [
    "depth= np.fromfile(\"/Users/hydros/Documents/models/cmf_v410_pkg_20230202/out/test1-glb_15min/2000-sp1/rivout2000.bin\", \"<f4\")"
   ]
  },
  {
   "cell_type": "code",
   "execution_count": 10,
   "id": "caf5f6e7-ab93-4ee7-9fc4-dee9c3f8d3e5",
   "metadata": {
    "tags": []
   },
   "outputs": [
    {
     "data": {
      "text/plain": [
       "378432000"
      ]
     },
     "execution_count": 10,
     "metadata": {},
     "output_type": "execute_result"
    }
   ],
   "source": [
    "1440*720*366"
   ]
  },
  {
   "cell_type": "code",
   "execution_count": 15,
   "id": "8af6d415-1c96-4164-95b5-a62b1bcb6dd8",
   "metadata": {
    "tags": []
   },
   "outputs": [
    {
     "data": {
      "text/plain": [
       "(379468800,)"
      ]
     },
     "execution_count": 15,
     "metadata": {},
     "output_type": "execute_result"
    }
   ],
   "source": [
    "depth.shape"
   ]
  }
 ],
 "metadata": {
  "kernelspec": {
   "display_name": "Python 3 (ipykernel)",
   "language": "python",
   "name": "python3"
  },
  "language_info": {
   "codemirror_mode": {
    "name": "ipython",
    "version": 3
   },
   "file_extension": ".py",
   "mimetype": "text/x-python",
   "name": "python",
   "nbconvert_exporter": "python",
   "pygments_lexer": "ipython3",
   "version": "3.9.16"
  }
 },
 "nbformat": 4,
 "nbformat_minor": 5
}
